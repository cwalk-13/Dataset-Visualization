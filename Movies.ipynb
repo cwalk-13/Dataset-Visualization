{
 "cells": [
  {
   "cell_type": "markdown",
   "metadata": {},
   "source": [
    "# Movies Dataset\n",
    "\n",
    "Dataset source: https://www.kaggle.com/ruchi798/movies-on-netflix-prime-video-hulu-and-disney  \n",
    "Note: a copy of this dataset is already included in `input_data/movies.csv`\n",
    "\n",
    "## TODO: your EDA story here"
   ]
  }
 ],
 "metadata": {
  "kernelspec": {
   "display_name": "Python 3",
   "language": "python",
   "name": "python3"
  },
  "language_info": {
   "codemirror_mode": {
    "name": "ipython",
    "version": 3
   },
   "file_extension": ".py",
   "mimetype": "text/x-python",
   "name": "python",
   "nbconvert_exporter": "python",
   "pygments_lexer": "ipython3",
   "version": "3.8.5"
  }
 },
 "nbformat": 4,
 "nbformat_minor": 4
}
